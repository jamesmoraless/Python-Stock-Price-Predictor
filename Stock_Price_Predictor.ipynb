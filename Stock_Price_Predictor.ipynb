{
  "nbformat": 4,
  "nbformat_minor": 0,
  "metadata": {
    "colab": {
      "provenance": [],
      "collapsed_sections": [],
      "authorship_tag": "ABX9TyOEJ/TBNSNSBXaRvRJMm6wA",
      "include_colab_link": true
    },
    "kernelspec": {
      "name": "python3",
      "display_name": "Python 3"
    },
    "language_info": {
      "name": "python"
    }
  },
  "cells": [
    {
      "cell_type": "markdown",
      "metadata": {
        "id": "view-in-github",
        "colab_type": "text"
      },
      "source": [
        "<a href=\"https://colab.research.google.com/github/jamesmoraless/Python-Stock-Price-Predictor/blob/main/Stock_Price_Predictor.ipynb\" target=\"_parent\"><img src=\"https://colab.research.google.com/assets/colab-badge.svg\" alt=\"Open In Colab\"/></a>"
      ]
    },
    {
      "cell_type": "code",
      "execution_count": 17,
      "metadata": {
        "id": "qiOb94kM8V1c"
      },
      "outputs": [],
      "source": [
        "#Description: This program uses an artificial recurrent neural networlk called Long Short Term Memory (LSTM) \n",
        "# to predit a closing stock price of a corporation (apple). using the past 60 day stock price\n",
        "#LSTM models arent the best at extrapolating... So we want to train the model on more relevant data"
      ]
    },
    {
      "cell_type": "code",
      "source": [
        "import pandas as pd\n",
        "\n",
        "#Getting the data from the CSV file \n",
        "df = pd.read_csv('MSFT.csv')\n",
        "#Output of data \n",
        "df\n",
        "\n",
        "df = df[['Date', 'Close']]\n",
        "df\n",
        "\n"
      ],
      "metadata": {
        "colab": {
          "base_uri": "https://localhost:8080/",
          "height": 424
        },
        "id": "9o1tI53-82vX",
        "outputId": "68a55bd6-dd52-4bde-e635-e7fd5682dfdb"
      },
      "execution_count": 18,
      "outputs": [
        {
          "output_type": "execute_result",
          "data": {
            "text/plain": [
              "            Date       Close\n",
              "0     1986-03-13    0.097222\n",
              "1     1986-03-14    0.100694\n",
              "2     1986-03-17    0.102431\n",
              "3     1986-03-18    0.099826\n",
              "4     1986-03-19    0.098090\n",
              "...          ...         ...\n",
              "9231  2022-10-26  231.320007\n",
              "9232  2022-10-27  226.750000\n",
              "9233  2022-10-28  235.869995\n",
              "9234  2022-10-31  232.130005\n",
              "9235  2022-11-01  228.169998\n",
              "\n",
              "[9236 rows x 2 columns]"
            ],
            "text/html": [
              "\n",
              "  <div id=\"df-006c0f73-8a02-4307-94d0-71558bd3cb84\">\n",
              "    <div class=\"colab-df-container\">\n",
              "      <div>\n",
              "<style scoped>\n",
              "    .dataframe tbody tr th:only-of-type {\n",
              "        vertical-align: middle;\n",
              "    }\n",
              "\n",
              "    .dataframe tbody tr th {\n",
              "        vertical-align: top;\n",
              "    }\n",
              "\n",
              "    .dataframe thead th {\n",
              "        text-align: right;\n",
              "    }\n",
              "</style>\n",
              "<table border=\"1\" class=\"dataframe\">\n",
              "  <thead>\n",
              "    <tr style=\"text-align: right;\">\n",
              "      <th></th>\n",
              "      <th>Date</th>\n",
              "      <th>Close</th>\n",
              "    </tr>\n",
              "  </thead>\n",
              "  <tbody>\n",
              "    <tr>\n",
              "      <th>0</th>\n",
              "      <td>1986-03-13</td>\n",
              "      <td>0.097222</td>\n",
              "    </tr>\n",
              "    <tr>\n",
              "      <th>1</th>\n",
              "      <td>1986-03-14</td>\n",
              "      <td>0.100694</td>\n",
              "    </tr>\n",
              "    <tr>\n",
              "      <th>2</th>\n",
              "      <td>1986-03-17</td>\n",
              "      <td>0.102431</td>\n",
              "    </tr>\n",
              "    <tr>\n",
              "      <th>3</th>\n",
              "      <td>1986-03-18</td>\n",
              "      <td>0.099826</td>\n",
              "    </tr>\n",
              "    <tr>\n",
              "      <th>4</th>\n",
              "      <td>1986-03-19</td>\n",
              "      <td>0.098090</td>\n",
              "    </tr>\n",
              "    <tr>\n",
              "      <th>...</th>\n",
              "      <td>...</td>\n",
              "      <td>...</td>\n",
              "    </tr>\n",
              "    <tr>\n",
              "      <th>9231</th>\n",
              "      <td>2022-10-26</td>\n",
              "      <td>231.320007</td>\n",
              "    </tr>\n",
              "    <tr>\n",
              "      <th>9232</th>\n",
              "      <td>2022-10-27</td>\n",
              "      <td>226.750000</td>\n",
              "    </tr>\n",
              "    <tr>\n",
              "      <th>9233</th>\n",
              "      <td>2022-10-28</td>\n",
              "      <td>235.869995</td>\n",
              "    </tr>\n",
              "    <tr>\n",
              "      <th>9234</th>\n",
              "      <td>2022-10-31</td>\n",
              "      <td>232.130005</td>\n",
              "    </tr>\n",
              "    <tr>\n",
              "      <th>9235</th>\n",
              "      <td>2022-11-01</td>\n",
              "      <td>228.169998</td>\n",
              "    </tr>\n",
              "  </tbody>\n",
              "</table>\n",
              "<p>9236 rows × 2 columns</p>\n",
              "</div>\n",
              "      <button class=\"colab-df-convert\" onclick=\"convertToInteractive('df-006c0f73-8a02-4307-94d0-71558bd3cb84')\"\n",
              "              title=\"Convert this dataframe to an interactive table.\"\n",
              "              style=\"display:none;\">\n",
              "        \n",
              "  <svg xmlns=\"http://www.w3.org/2000/svg\" height=\"24px\"viewBox=\"0 0 24 24\"\n",
              "       width=\"24px\">\n",
              "    <path d=\"M0 0h24v24H0V0z\" fill=\"none\"/>\n",
              "    <path d=\"M18.56 5.44l.94 2.06.94-2.06 2.06-.94-2.06-.94-.94-2.06-.94 2.06-2.06.94zm-11 1L8.5 8.5l.94-2.06 2.06-.94-2.06-.94L8.5 2.5l-.94 2.06-2.06.94zm10 10l.94 2.06.94-2.06 2.06-.94-2.06-.94-.94-2.06-.94 2.06-2.06.94z\"/><path d=\"M17.41 7.96l-1.37-1.37c-.4-.4-.92-.59-1.43-.59-.52 0-1.04.2-1.43.59L10.3 9.45l-7.72 7.72c-.78.78-.78 2.05 0 2.83L4 21.41c.39.39.9.59 1.41.59.51 0 1.02-.2 1.41-.59l7.78-7.78 2.81-2.81c.8-.78.8-2.07 0-2.86zM5.41 20L4 18.59l7.72-7.72 1.47 1.35L5.41 20z\"/>\n",
              "  </svg>\n",
              "      </button>\n",
              "      \n",
              "  <style>\n",
              "    .colab-df-container {\n",
              "      display:flex;\n",
              "      flex-wrap:wrap;\n",
              "      gap: 12px;\n",
              "    }\n",
              "\n",
              "    .colab-df-convert {\n",
              "      background-color: #E8F0FE;\n",
              "      border: none;\n",
              "      border-radius: 50%;\n",
              "      cursor: pointer;\n",
              "      display: none;\n",
              "      fill: #1967D2;\n",
              "      height: 32px;\n",
              "      padding: 0 0 0 0;\n",
              "      width: 32px;\n",
              "    }\n",
              "\n",
              "    .colab-df-convert:hover {\n",
              "      background-color: #E2EBFA;\n",
              "      box-shadow: 0px 1px 2px rgba(60, 64, 67, 0.3), 0px 1px 3px 1px rgba(60, 64, 67, 0.15);\n",
              "      fill: #174EA6;\n",
              "    }\n",
              "\n",
              "    [theme=dark] .colab-df-convert {\n",
              "      background-color: #3B4455;\n",
              "      fill: #D2E3FC;\n",
              "    }\n",
              "\n",
              "    [theme=dark] .colab-df-convert:hover {\n",
              "      background-color: #434B5C;\n",
              "      box-shadow: 0px 1px 3px 1px rgba(0, 0, 0, 0.15);\n",
              "      filter: drop-shadow(0px 1px 2px rgba(0, 0, 0, 0.3));\n",
              "      fill: #FFFFFF;\n",
              "    }\n",
              "  </style>\n",
              "\n",
              "      <script>\n",
              "        const buttonEl =\n",
              "          document.querySelector('#df-006c0f73-8a02-4307-94d0-71558bd3cb84 button.colab-df-convert');\n",
              "        buttonEl.style.display =\n",
              "          google.colab.kernel.accessAllowed ? 'block' : 'none';\n",
              "\n",
              "        async function convertToInteractive(key) {\n",
              "          const element = document.querySelector('#df-006c0f73-8a02-4307-94d0-71558bd3cb84');\n",
              "          const dataTable =\n",
              "            await google.colab.kernel.invokeFunction('convertToInteractive',\n",
              "                                                     [key], {});\n",
              "          if (!dataTable) return;\n",
              "\n",
              "          const docLinkHtml = 'Like what you see? Visit the ' +\n",
              "            '<a target=\"_blank\" href=https://colab.research.google.com/notebooks/data_table.ipynb>data table notebook</a>'\n",
              "            + ' to learn more about interactive tables.';\n",
              "          element.innerHTML = '';\n",
              "          dataTable['output_type'] = 'display_data';\n",
              "          await google.colab.output.renderOutput(dataTable, element);\n",
              "          const docLink = document.createElement('div');\n",
              "          docLink.innerHTML = docLinkHtml;\n",
              "          element.appendChild(docLink);\n",
              "        }\n",
              "      </script>\n",
              "    </div>\n",
              "  </div>\n",
              "  "
            ]
          },
          "metadata": {},
          "execution_count": 18
        }
      ]
    },
    {
      "cell_type": "code",
      "source": [
        "import datetime\n",
        "#Converting the dates into actual dates with datetime\n",
        "def str_to_datetime(s):\n",
        "  split_date = s.split('-')\n",
        "  year, month, day = int(split_date[0]), int(split_date[1]), int(split_date[2])\n",
        "  return datetime.datetime(year=year, month=month, day=day)\n"
      ],
      "metadata": {
        "id": "UEtJyReRNUYV"
      },
      "execution_count": 19,
      "outputs": []
    },
    {
      "cell_type": "code",
      "source": [
        "df['Date'] = df['Date'].apply(str_to_datetime)\n",
        "\n",
        "df['Date']"
      ],
      "metadata": {
        "id": "J9maDsRzPGVe",
        "colab": {
          "base_uri": "https://localhost:8080/"
        },
        "outputId": "857613cb-9fe4-427c-f393-b3e3e13fbf2a"
      },
      "execution_count": 20,
      "outputs": [
        {
          "output_type": "execute_result",
          "data": {
            "text/plain": [
              "0      1986-03-13\n",
              "1      1986-03-14\n",
              "2      1986-03-17\n",
              "3      1986-03-18\n",
              "4      1986-03-19\n",
              "          ...    \n",
              "9231   2022-10-26\n",
              "9232   2022-10-27\n",
              "9233   2022-10-28\n",
              "9234   2022-10-31\n",
              "9235   2022-11-01\n",
              "Name: Date, Length: 9236, dtype: datetime64[ns]"
            ]
          },
          "metadata": {},
          "execution_count": 20
        }
      ]
    },
    {
      "cell_type": "code",
      "source": [
        "df.index = df.pop('Date')\n",
        "df"
      ],
      "metadata": {
        "id": "36yFn1d7SMAl",
        "colab": {
          "base_uri": "https://localhost:8080/",
          "height": 455
        },
        "outputId": "ca9865b1-7eb6-4e51-b1d4-bc18e80842c0"
      },
      "execution_count": 21,
      "outputs": [
        {
          "output_type": "execute_result",
          "data": {
            "text/plain": [
              "                 Close\n",
              "Date                  \n",
              "1986-03-13    0.097222\n",
              "1986-03-14    0.100694\n",
              "1986-03-17    0.102431\n",
              "1986-03-18    0.099826\n",
              "1986-03-19    0.098090\n",
              "...                ...\n",
              "2022-10-26  231.320007\n",
              "2022-10-27  226.750000\n",
              "2022-10-28  235.869995\n",
              "2022-10-31  232.130005\n",
              "2022-11-01  228.169998\n",
              "\n",
              "[9236 rows x 1 columns]"
            ],
            "text/html": [
              "\n",
              "  <div id=\"df-185751c9-bb74-4a32-bde8-e60d6cec5afd\">\n",
              "    <div class=\"colab-df-container\">\n",
              "      <div>\n",
              "<style scoped>\n",
              "    .dataframe tbody tr th:only-of-type {\n",
              "        vertical-align: middle;\n",
              "    }\n",
              "\n",
              "    .dataframe tbody tr th {\n",
              "        vertical-align: top;\n",
              "    }\n",
              "\n",
              "    .dataframe thead th {\n",
              "        text-align: right;\n",
              "    }\n",
              "</style>\n",
              "<table border=\"1\" class=\"dataframe\">\n",
              "  <thead>\n",
              "    <tr style=\"text-align: right;\">\n",
              "      <th></th>\n",
              "      <th>Close</th>\n",
              "    </tr>\n",
              "    <tr>\n",
              "      <th>Date</th>\n",
              "      <th></th>\n",
              "    </tr>\n",
              "  </thead>\n",
              "  <tbody>\n",
              "    <tr>\n",
              "      <th>1986-03-13</th>\n",
              "      <td>0.097222</td>\n",
              "    </tr>\n",
              "    <tr>\n",
              "      <th>1986-03-14</th>\n",
              "      <td>0.100694</td>\n",
              "    </tr>\n",
              "    <tr>\n",
              "      <th>1986-03-17</th>\n",
              "      <td>0.102431</td>\n",
              "    </tr>\n",
              "    <tr>\n",
              "      <th>1986-03-18</th>\n",
              "      <td>0.099826</td>\n",
              "    </tr>\n",
              "    <tr>\n",
              "      <th>1986-03-19</th>\n",
              "      <td>0.098090</td>\n",
              "    </tr>\n",
              "    <tr>\n",
              "      <th>...</th>\n",
              "      <td>...</td>\n",
              "    </tr>\n",
              "    <tr>\n",
              "      <th>2022-10-26</th>\n",
              "      <td>231.320007</td>\n",
              "    </tr>\n",
              "    <tr>\n",
              "      <th>2022-10-27</th>\n",
              "      <td>226.750000</td>\n",
              "    </tr>\n",
              "    <tr>\n",
              "      <th>2022-10-28</th>\n",
              "      <td>235.869995</td>\n",
              "    </tr>\n",
              "    <tr>\n",
              "      <th>2022-10-31</th>\n",
              "      <td>232.130005</td>\n",
              "    </tr>\n",
              "    <tr>\n",
              "      <th>2022-11-01</th>\n",
              "      <td>228.169998</td>\n",
              "    </tr>\n",
              "  </tbody>\n",
              "</table>\n",
              "<p>9236 rows × 1 columns</p>\n",
              "</div>\n",
              "      <button class=\"colab-df-convert\" onclick=\"convertToInteractive('df-185751c9-bb74-4a32-bde8-e60d6cec5afd')\"\n",
              "              title=\"Convert this dataframe to an interactive table.\"\n",
              "              style=\"display:none;\">\n",
              "        \n",
              "  <svg xmlns=\"http://www.w3.org/2000/svg\" height=\"24px\"viewBox=\"0 0 24 24\"\n",
              "       width=\"24px\">\n",
              "    <path d=\"M0 0h24v24H0V0z\" fill=\"none\"/>\n",
              "    <path d=\"M18.56 5.44l.94 2.06.94-2.06 2.06-.94-2.06-.94-.94-2.06-.94 2.06-2.06.94zm-11 1L8.5 8.5l.94-2.06 2.06-.94-2.06-.94L8.5 2.5l-.94 2.06-2.06.94zm10 10l.94 2.06.94-2.06 2.06-.94-2.06-.94-.94-2.06-.94 2.06-2.06.94z\"/><path d=\"M17.41 7.96l-1.37-1.37c-.4-.4-.92-.59-1.43-.59-.52 0-1.04.2-1.43.59L10.3 9.45l-7.72 7.72c-.78.78-.78 2.05 0 2.83L4 21.41c.39.39.9.59 1.41.59.51 0 1.02-.2 1.41-.59l7.78-7.78 2.81-2.81c.8-.78.8-2.07 0-2.86zM5.41 20L4 18.59l7.72-7.72 1.47 1.35L5.41 20z\"/>\n",
              "  </svg>\n",
              "      </button>\n",
              "      \n",
              "  <style>\n",
              "    .colab-df-container {\n",
              "      display:flex;\n",
              "      flex-wrap:wrap;\n",
              "      gap: 12px;\n",
              "    }\n",
              "\n",
              "    .colab-df-convert {\n",
              "      background-color: #E8F0FE;\n",
              "      border: none;\n",
              "      border-radius: 50%;\n",
              "      cursor: pointer;\n",
              "      display: none;\n",
              "      fill: #1967D2;\n",
              "      height: 32px;\n",
              "      padding: 0 0 0 0;\n",
              "      width: 32px;\n",
              "    }\n",
              "\n",
              "    .colab-df-convert:hover {\n",
              "      background-color: #E2EBFA;\n",
              "      box-shadow: 0px 1px 2px rgba(60, 64, 67, 0.3), 0px 1px 3px 1px rgba(60, 64, 67, 0.15);\n",
              "      fill: #174EA6;\n",
              "    }\n",
              "\n",
              "    [theme=dark] .colab-df-convert {\n",
              "      background-color: #3B4455;\n",
              "      fill: #D2E3FC;\n",
              "    }\n",
              "\n",
              "    [theme=dark] .colab-df-convert:hover {\n",
              "      background-color: #434B5C;\n",
              "      box-shadow: 0px 1px 3px 1px rgba(0, 0, 0, 0.15);\n",
              "      filter: drop-shadow(0px 1px 2px rgba(0, 0, 0, 0.3));\n",
              "      fill: #FFFFFF;\n",
              "    }\n",
              "  </style>\n",
              "\n",
              "      <script>\n",
              "        const buttonEl =\n",
              "          document.querySelector('#df-185751c9-bb74-4a32-bde8-e60d6cec5afd button.colab-df-convert');\n",
              "        buttonEl.style.display =\n",
              "          google.colab.kernel.accessAllowed ? 'block' : 'none';\n",
              "\n",
              "        async function convertToInteractive(key) {\n",
              "          const element = document.querySelector('#df-185751c9-bb74-4a32-bde8-e60d6cec5afd');\n",
              "          const dataTable =\n",
              "            await google.colab.kernel.invokeFunction('convertToInteractive',\n",
              "                                                     [key], {});\n",
              "          if (!dataTable) return;\n",
              "\n",
              "          const docLinkHtml = 'Like what you see? Visit the ' +\n",
              "            '<a target=\"_blank\" href=https://colab.research.google.com/notebooks/data_table.ipynb>data table notebook</a>'\n",
              "            + ' to learn more about interactive tables.';\n",
              "          element.innerHTML = '';\n",
              "          dataTable['output_type'] = 'display_data';\n",
              "          await google.colab.output.renderOutput(dataTable, element);\n",
              "          const docLink = document.createElement('div');\n",
              "          docLink.innerHTML = docLinkHtml;\n",
              "          element.appendChild(docLink);\n",
              "        }\n",
              "      </script>\n",
              "    </div>\n",
              "  </div>\n",
              "  "
            ]
          },
          "metadata": {},
          "execution_count": 21
        }
      ]
    },
    {
      "cell_type": "code",
      "source": [
        "import matplotlib.pyplot as plt\n",
        "\n",
        "plt.plot(df.index,df['Close'])"
      ],
      "metadata": {
        "id": "utDEpetJSXck",
        "colab": {
          "base_uri": "https://localhost:8080/",
          "height": 282
        },
        "outputId": "a7b37a7d-49d4-4fbd-cbdb-75c6f968c4ad"
      },
      "execution_count": 22,
      "outputs": [
        {
          "output_type": "execute_result",
          "data": {
            "text/plain": [
              "[<matplotlib.lines.Line2D at 0x7f50b445c990>]"
            ]
          },
          "metadata": {},
          "execution_count": 22
        },
        {
          "output_type": "display_data",
          "data": {
            "text/plain": [
              "<Figure size 432x288 with 1 Axes>"
            ],
            "image/png": "[encoded data removed]"
          },
          "metadata": {
            "needs_background": "light"
          }
        }
      ]
    },
    {
      "cell_type": "code",
      "source": [
        "import numpy as np\n",
        "\n",
        "def df_to_windowed_df(dataframe, first_date_str, last_date_str, n=3):\n",
        "  first_date = str_to_datetime(first_date_str)\n",
        "  last_date  = str_to_datetime(last_date_str)\n",
        "\n",
        "  target_date = first_date\n",
        "  \n",
        "  dates = []\n",
        "  X, Y = [], []\n",
        "\n",
        "  last_time = False\n",
        "  while True:\n",
        "    df_subset = dataframe.loc[:target_date].tail(n+1)\n",
        "    \n",
        "    if len(df_subset) != n+1:\n",
        "      print(f'Error: Window of size {n} is too large for date {target_date}')\n",
        "      return\n",
        "\n",
        "    values = df_subset['Close'].to_numpy()\n",
        "    x, y = values[:-1], values[-1]\n",
        "\n",
        "    dates.append(target_date)\n",
        "    X.append(x)\n",
        "    Y.append(y)\n",
        "\n",
        "    next_week = dataframe.loc[target_date:target_date+datetime.timedelta(days=7)]\n",
        "    next_datetime_str = str(next_week.head(2).tail(1).index.values[0])\n",
        "    next_date_str = next_datetime_str.split('T')[0]\n",
        "    year_month_day = next_date_str.split('-')\n",
        "    year, month, day = year_month_day\n",
        "    next_date = datetime.datetime(day=int(day), month=int(month), year=int(year))\n",
        "    \n",
        "    if last_time:\n",
        "      break\n",
        "    \n",
        "    target_date = next_date\n",
        "\n",
        "    if target_date == last_date:\n",
        "      last_time = True\n",
        "    \n",
        "  ret_df = pd.DataFrame({})\n",
        "  ret_df['Target Date'] = dates\n",
        "  \n",
        "  X = np.array(X)\n",
        "  for i in range(0, n):\n",
        "    X[:, i]\n",
        "    ret_df[f'Target-{n-i}'] = X[:, i]\n",
        "  \n",
        "  ret_df['Target'] = Y\n",
        "\n",
        "  return ret_df\n",
        "\n",
        "# Start day: '2021-11-02'\n",
        "windowed_df = df_to_windowed_df(df, \n",
        "                                '2021-11-02', \n",
        "                                '2022-11-01', \n",
        "                                n=3)\n",
        "windowed_df"
      ],
      "metadata": {
        "id": "yubKhooATKVs",
        "colab": {
          "base_uri": "https://localhost:8080/",
          "height": 424
        },
        "outputId": "0c897ce7-8246-41ad-db3c-7e36c3808d00"
      },
      "execution_count": 23,
      "outputs": [
        {
          "output_type": "execute_result",
          "data": {
            "text/plain": [
              "    Target Date    Target-3    Target-2    Target-1      Target\n",
              "0    2021-11-02  324.350006  331.619995  329.369995  333.130005\n",
              "1    2021-11-03  331.619995  329.369995  333.130005  334.000000\n",
              "2    2021-11-04  329.369995  333.130005  334.000000  336.440002\n",
              "3    2021-11-05  333.130005  334.000000  336.440002  336.059998\n",
              "4    2021-11-08  334.000000  336.440002  336.059998  336.989990\n",
              "..          ...         ...         ...         ...         ...\n",
              "247  2022-10-26  242.119995  247.250000  250.660004  231.320007\n",
              "248  2022-10-27  247.250000  250.660004  231.320007  226.750000\n",
              "249  2022-10-28  250.660004  231.320007  226.750000  235.869995\n",
              "250  2022-10-31  231.320007  226.750000  235.869995  232.130005\n",
              "251  2022-11-01  226.750000  235.869995  232.130005  228.169998\n",
              "\n",
              "[252 rows x 5 columns]"
            ],
            "text/html": [
              "\n",
              "  <div id=\"df-d1f3ec2d-d223-45a8-aa1d-90fbc5be830c\">\n",
              "    <div class=\"colab-df-container\">\n",
              "      <div>\n",
              "<style scoped>\n",
              "    .dataframe tbody tr th:only-of-type {\n",
              "        vertical-align: middle;\n",
              "    }\n",
              "\n",
              "    .dataframe tbody tr th {\n",
              "        vertical-align: top;\n",
              "    }\n",
              "\n",
              "    .dataframe thead th {\n",
              "        text-align: right;\n",
              "    }\n",
              "</style>\n",
              "<table border=\"1\" class=\"dataframe\">\n",
              "  <thead>\n",
              "    <tr style=\"text-align: right;\">\n",
              "      <th></th>\n",
              "      <th>Target Date</th>\n",
              "      <th>Target-3</th>\n",
              "      <th>Target-2</th>\n",
              "      <th>Target-1</th>\n",
              "      <th>Target</th>\n",
              "    </tr>\n",
              "  </thead>\n",
              "  <tbody>\n",
              "    <tr>\n",
              "      <th>0</th>\n",
              "      <td>2021-11-02</td>\n",
              "      <td>324.350006</td>\n",
              "      <td>331.619995</td>\n",
              "      <td>329.369995</td>\n",
              "      <td>333.130005</td>\n",
              "    </tr>\n",
              "    <tr>\n",
              "      <th>1</th>\n",
              "      <td>2021-11-03</td>\n",
              "      <td>331.619995</td>\n",
              "      <td>329.369995</td>\n",
              "      <td>333.130005</td>\n",
              "      <td>334.000000</td>\n",
              "    </tr>\n",
              "    <tr>\n",
              "      <th>2</th>\n",
              "      <td>2021-11-04</td>\n",
              "      <td>329.369995</td>\n",
              "      <td>333.130005</td>\n",
              "      <td>334.000000</td>\n",
              "      <td>336.440002</td>\n",
              "    </tr>\n",
              "    <tr>\n",
              "      <th>3</th>\n",
              "      <td>2021-11-05</td>\n",
              "      <td>333.130005</td>\n",
              "      <td>334.000000</td>\n",
              "      <td>336.440002</td>\n",
              "      <td>336.059998</td>\n",
              "    </tr>\n",
              "    <tr>\n",
              "      <th>4</th>\n",
              "      <td>2021-11-08</td>\n",
              "      <td>334.000000</td>\n",
              "      <td>336.440002</td>\n",
              "      <td>336.059998</td>\n",
              "      <td>336.989990</td>\n",
              "    </tr>\n",
              "    <tr>\n",
              "      <th>...</th>\n",
              "      <td>...</td>\n",
              "      <td>...</td>\n",
              "      <td>...</td>\n",
              "      <td>...</td>\n",
              "      <td>...</td>\n",
              "    </tr>\n",
              "    <tr>\n",
              "      <th>247</th>\n",
              "      <td>2022-10-26</td>\n",
              "      <td>242.119995</td>\n",
              "      <td>247.250000</td>\n",
              "      <td>250.660004</td>\n",
              "      <td>231.320007</td>\n",
              "    </tr>\n",
              "    <tr>\n",
              "      <th>248</th>\n",
              "      <td>2022-10-27</td>\n",
              "      <td>247.250000</td>\n",
              "      <td>250.660004</td>\n",
              "      <td>231.320007</td>\n",
              "      <td>226.750000</td>\n",
              "    </tr>\n",
              "    <tr>\n",
              "      <th>249</th>\n",
              "      <td>2022-10-28</td>\n",
              "      <td>250.660004</td>\n",
              "      <td>231.320007</td>\n",
              "      <td>226.750000</td>\n",
              "      <td>235.869995</td>\n",
              "    </tr>\n",
              "    <tr>\n",
              "      <th>250</th>\n",
              "      <td>2022-10-31</td>\n",
              "      <td>231.320007</td>\n",
              "      <td>226.750000</td>\n",
              "      <td>235.869995</td>\n",
              "      <td>232.130005</td>\n",
              "    </tr>\n",
              "    <tr>\n",
              "      <th>251</th>\n",
              "      <td>2022-11-01</td>\n",
              "      <td>226.750000</td>\n",
              "      <td>235.869995</td>\n",
              "      <td>232.130005</td>\n",
              "      <td>228.169998</td>\n",
              "    </tr>\n",
              "  </tbody>\n",
              "</table>\n",
              "<p>252 rows × 5 columns</p>\n",
              "</div>\n",
              "      <button class=\"colab-df-convert\" onclick=\"convertToInteractive('df-d1f3ec2d-d223-45a8-aa1d-90fbc5be830c')\"\n",
              "              title=\"Convert this dataframe to an interactive table.\"\n",
              "              style=\"display:none;\">\n",
              "        \n",
              "  <svg xmlns=\"http://www.w3.org/2000/svg\" height=\"24px\"viewBox=\"0 0 24 24\"\n",
              "       width=\"24px\">\n",
              "    <path d=\"M0 0h24v24H0V0z\" fill=\"none\"/>\n",
              "    <path d=\"M18.56 5.44l.94 2.06.94-2.06 2.06-.94-2.06-.94-.94-2.06-.94 2.06-2.06.94zm-11 1L8.5 8.5l.94-2.06 2.06-.94-2.06-.94L8.5 2.5l-.94 2.06-2.06.94zm10 10l.94 2.06.94-2.06 2.06-.94-2.06-.94-.94-2.06-.94 2.06-2.06.94z\"/><path d=\"M17.41 7.96l-1.37-1.37c-.4-.4-.92-.59-1.43-.59-.52 0-1.04.2-1.43.59L10.3 9.45l-7.72 7.72c-.78.78-.78 2.05 0 2.83L4 21.41c.39.39.9.59 1.41.59.51 0 1.02-.2 1.41-.59l7.78-7.78 2.81-2.81c.8-.78.8-2.07 0-2.86zM5.41 20L4 18.59l7.72-7.72 1.47 1.35L5.41 20z\"/>\n",
              "  </svg>\n",
              "      </button>\n",
              "      \n",
              "  <style>\n",
              "    .colab-df-container {\n",
              "      display:flex;\n",
              "      flex-wrap:wrap;\n",
              "      gap: 12px;\n",
              "    }\n",
              "\n",
              "    .colab-df-convert {\n",
              "      background-color: #E8F0FE;\n",
              "      border: none;\n",
              "      border-radius: 50%;\n",
              "      cursor: pointer;\n",
              "      display: none;\n",
              "      fill: #1967D2;\n",
              "      height: 32px;\n",
              "      padding: 0 0 0 0;\n",
              "      width: 32px;\n",
              "    }\n",
              "\n",
              "    .colab-df-convert:hover {\n",
              "      background-color: #E2EBFA;\n",
              "      box-shadow: 0px 1px 2px rgba(60, 64, 67, 0.3), 0px 1px 3px 1px rgba(60, 64, 67, 0.15);\n",
              "      fill: #174EA6;\n",
              "    }\n",
              "\n",
              "    [theme=dark] .colab-df-convert {\n",
              "      background-color: #3B4455;\n",
              "      fill: #D2E3FC;\n",
              "    }\n",
              "\n",
              "    [theme=dark] .colab-df-convert:hover {\n",
              "      background-color: #434B5C;\n",
              "      box-shadow: 0px 1px 3px 1px rgba(0, 0, 0, 0.15);\n",
              "      filter: drop-shadow(0px 1px 2px rgba(0, 0, 0, 0.3));\n",
              "      fill: #FFFFFF;\n",
              "    }\n",
              "  </style>\n",
              "\n",
              "      <script>\n",
              "        const buttonEl =\n",
              "          document.querySelector('#df-d1f3ec2d-d223-45a8-aa1d-90fbc5be830c button.colab-df-convert');\n",
              "        buttonEl.style.display =\n",
              "          google.colab.kernel.accessAllowed ? 'block' : 'none';\n",
              "\n",
              "        async function convertToInteractive(key) {\n",
              "          const element = document.querySelector('#df-d1f3ec2d-d223-45a8-aa1d-90fbc5be830c');\n",
              "          const dataTable =\n",
              "            await google.colab.kernel.invokeFunction('convertToInteractive',\n",
              "                                                     [key], {});\n",
              "          if (!dataTable) return;\n",
              "\n",
              "          const docLinkHtml = 'Like what you see? Visit the ' +\n",
              "            '<a target=\"_blank\" href=https://colab.research.google.com/notebooks/data_table.ipynb>data table notebook</a>'\n",
              "            + ' to learn more about interactive tables.';\n",
              "          element.innerHTML = '';\n",
              "          dataTable['output_type'] = 'display_data';\n",
              "          await google.colab.output.renderOutput(dataTable, element);\n",
              "          const docLink = document.createElement('div');\n",
              "          docLink.innerHTML = docLinkHtml;\n",
              "          element.appendChild(docLink);\n",
              "        }\n",
              "      </script>\n",
              "    </div>\n",
              "  </div>\n",
              "  "
            ]
          },
          "metadata": {},
          "execution_count": 23
        }
      ]
    },
    {
      "cell_type": "code",
      "source": [
        "def windowed_df_to_date_X_y(windowed_dataframe):\n",
        "  df_as_np = windowed_dataframe.to_numpy()\n",
        "\n",
        "  dates = df_as_np[:, 0]\n",
        "\n",
        "  middle_matrix = df_as_np[:, 1:-1]\n",
        "  X = middle_matrix.reshape((len(dates), middle_matrix.shape[1], 1))\n",
        "\n",
        "  Y = df_as_np[:, -1]\n",
        "\n",
        "  return dates, X.astype(np.float32), Y.astype(np.float32)\n",
        "\n",
        "dates, X, y = windowed_df_to_date_X_y(windowed_df)\n",
        "\n",
        "dates.shape, X.shape, y.shape"
      ],
      "metadata": {
        "id": "tXvlPfaOVFak",
        "colab": {
          "base_uri": "https://localhost:8080/"
        },
        "outputId": "79ceec4a-7ac2-4c33-d482-353dbeb28299"
      },
      "execution_count": 24,
      "outputs": [
        {
          "output_type": "execute_result",
          "data": {
            "text/plain": [
              "((252,), (252, 3, 1), (252,))"
            ]
          },
          "metadata": {},
          "execution_count": 24
        }
      ]
    },
    {
      "cell_type": "code",
      "source": [
        "#Training, validation and testing to evaluate the performance of the model \n",
        "q_80 = int(len(dates)*.8)\n",
        "q_90 = int(len(dates)*.9)\n",
        "\n",
        "dates_train, X_train, y_train = dates[:q_80], X[:q_80], y[:q_80] #up until first 80%\n",
        "\n",
        "dates_val, X_val, y_val = dates[q_80:q_90], X[q_80:q_90], y[q_80:q_90] #10%\n",
        "dates_test, X_test, y_test = dates[q_90:], X[q_90:], y[q_90:] #90% onward\n",
        "\n",
        "plt.plot(dates_train, y_train)\n",
        "plt.plot(dates_val, y_val)\n",
        "plt.plot(dates_test, y_test)\n",
        "\n",
        "plt.legend(['Train', 'Validation', 'Test'])\n",
        "\n"
      ],
      "metadata": {
        "id": "nNMPi4ezXEou",
        "colab": {
          "base_uri": "https://localhost:8080/",
          "height": 282
        },
        "outputId": "3c1137b7-a3f5-48f7-d95b-ca97498635db"
      },
      "execution_count": 25,
      "outputs": [
        {
          "output_type": "execute_result",
          "data": {
            "text/plain": [
              "<matplotlib.legend.Legend at 0x7f50b42ecf10>"
            ]
          },
          "metadata": {},
          "execution_count": 25
        },
        {
          "output_type": "display_data",
          "data": {
            "text/plain": [
              "<Figure size 432x288 with 1 Axes>"
            ],
            "image/png": "[encoded data removed]"
          },
          "metadata": {
            "needs_background": "light"
          }
        }
      ]
    },
    {
      "cell_type": "code",
      "source": [
        "from tensorflow.keras.models import Sequential \n",
        "from tensorflow.keras.optimizers import Adam\n",
        "from tensorflow.keras import layers\n",
        "#Creating and training the model \n",
        "#Model has inputs of 3 days prior and the LSTM layers is 64[neurons]\n",
        "model = Sequential([layers.Input((3,1)),\n",
        "                                 layers.LSTM(64),\n",
        "                                 layers.Dense(32, activation='relu'),\n",
        "                                 layers.Dense(32, activation='relu'),\n",
        "                                 layers.Dense(1)])\n",
        "model.compile(loss='mse', \n",
        "              optimizer=Adam(learning_rate=0.001),\n",
        "              metrics=['mean_absolute_error'])\n",
        "\n",
        "model.fit(X_train, y_train, validation_data=(X_val, y_val), epochs=100)\n"
      ],
      "metadata": {
        "id": "Rh61oAn5nxQB",
        "colab": {
          "base_uri": "https://localhost:8080/"
        },
        "outputId": "584167bd-2969-4d02-c79c-6b9876fb1d77"
      },
      "execution_count": 26,
      "outputs": [
        {
          "output_type": "stream",
          "name": "stdout",
          "text": [
            "Epoch 1/100\n",
            "7/7 [==============================] - 3s 118ms/step - loss: 86811.0781 - mean_absolute_error: 293.3448 - val_loss: 65778.9609 - val_mean_absolute_error: 256.1547\n",
            "Epoch 2/100\n",
            "7/7 [==============================] - 0s 10ms/step - loss: 86619.9609 - mean_absolute_error: 293.0186 - val_loss: 65597.9219 - val_mean_absolute_error: 255.8010\n",
            "Epoch 3/100\n",
            "7/7 [==============================] - 0s 10ms/step - loss: 86389.2266 - mean_absolute_error: 292.6250 - val_loss: 65335.8164 - val_mean_absolute_error: 255.2878\n",
            "Epoch 4/100\n",
            "7/7 [==============================] - 0s 8ms/step - loss: 86027.2734 - mean_absolute_error: 292.0019 - val_loss: 64871.2031 - val_mean_absolute_error: 254.3761\n",
            "Epoch 5/100\n",
            "7/7 [==============================] - 0s 7ms/step - loss: 85393.8047 - mean_absolute_error: 290.9168 - val_loss: 64265.2031 - val_mean_absolute_error: 253.1828\n",
            "Epoch 6/100\n",
            "7/7 [==============================] - 0s 7ms/step - loss: 84703.5312 - mean_absolute_error: 289.7318 - val_loss: 63638.1289 - val_mean_absolute_error: 251.9410\n",
            "Epoch 7/100\n",
            "7/7 [==============================] - 0s 7ms/step - loss: 83885.2031 - mean_absolute_error: 288.3099 - val_loss: 62692.0898 - val_mean_absolute_error: 250.0559\n",
            "Epoch 8/100\n",
            "7/7 [==============================] - 0s 8ms/step - loss: 82607.8516 - mean_absolute_error: 286.0891 - val_loss: 61308.7656 - val_mean_absolute_error: 247.2748\n",
            "Epoch 9/100\n",
            "7/7 [==============================] - 0s 7ms/step - loss: 80916.9453 - mean_absolute_error: 283.1235 - val_loss: 59709.2852 - val_mean_absolute_error: 244.0188\n",
            "Epoch 10/100\n",
            "7/7 [==============================] - 0s 7ms/step - loss: 78909.4297 - mean_absolute_error: 279.5433 - val_loss: 57612.0898 - val_mean_absolute_error: 239.6825\n",
            "Epoch 11/100\n",
            "7/7 [==============================] - 0s 10ms/step - loss: 76251.5703 - mean_absolute_error: 274.7413 - val_loss: 55028.3047 - val_mean_absolute_error: 234.2305\n",
            "Epoch 12/100\n",
            "7/7 [==============================] - 0s 7ms/step - loss: 73029.6094 - mean_absolute_error: 268.8181 - val_loss: 52001.8164 - val_mean_absolute_error: 227.6794\n",
            "Epoch 13/100\n",
            "7/7 [==============================] - 0s 7ms/step - loss: 69403.0312 - mean_absolute_error: 261.9865 - val_loss: 48740.1289 - val_mean_absolute_error: 220.4003\n",
            "Epoch 14/100\n",
            "7/7 [==============================] - 0s 7ms/step - loss: 65431.6406 - mean_absolute_error: 254.3038 - val_loss: 45011.4609 - val_mean_absolute_error: 211.7725\n",
            "Epoch 15/100\n",
            "7/7 [==============================] - 0s 7ms/step - loss: 60835.5625 - mean_absolute_error: 245.1011 - val_loss: 40900.9062 - val_mean_absolute_error: 201.8331\n",
            "Epoch 16/100\n",
            "7/7 [==============================] - 0s 7ms/step - loss: 55838.2539 - mean_absolute_error: 234.6637 - val_loss: 36429.7617 - val_mean_absolute_error: 190.4357\n",
            "Epoch 17/100\n",
            "7/7 [==============================] - 0s 7ms/step - loss: 50447.3828 - mean_absolute_error: 222.8483 - val_loss: 31771.5918 - val_mean_absolute_error: 177.7829\n",
            "Epoch 18/100\n",
            "7/7 [==============================] - 0s 9ms/step - loss: 44496.1523 - mean_absolute_error: 209.0725 - val_loss: 26307.6445 - val_mean_absolute_error: 161.6862\n",
            "Epoch 19/100\n",
            "7/7 [==============================] - 0s 8ms/step - loss: 37621.9883 - mean_absolute_error: 191.9365 - val_loss: 20850.3770 - val_mean_absolute_error: 143.8294\n",
            "Epoch 20/100\n",
            "7/7 [==============================] - 0s 7ms/step - loss: 31136.9102 - mean_absolute_error: 174.1796 - val_loss: 16078.6279 - val_mean_absolute_error: 126.1547\n",
            "Epoch 21/100\n",
            "7/7 [==============================] - 0s 9ms/step - loss: 25135.0000 - mean_absolute_error: 156.1806 - val_loss: 11738.7910 - val_mean_absolute_error: 107.5879\n",
            "Epoch 22/100\n",
            "7/7 [==============================] - 0s 8ms/step - loss: 19657.6641 - mean_absolute_error: 137.2612 - val_loss: 7950.2368 - val_mean_absolute_error: 88.2417\n",
            "Epoch 23/100\n",
            "7/7 [==============================] - 0s 7ms/step - loss: 14653.0166 - mean_absolute_error: 117.8194 - val_loss: 4883.3911 - val_mean_absolute_error: 68.7003\n",
            "Epoch 24/100\n",
            "7/7 [==============================] - 0s 7ms/step - loss: 10468.4062 - mean_absolute_error: 98.2898 - val_loss: 2592.5654 - val_mean_absolute_error: 49.2789\n",
            "Epoch 25/100\n",
            "7/7 [==============================] - 0s 8ms/step - loss: 7007.0835 - mean_absolute_error: 78.8175 - val_loss: 1036.8427 - val_mean_absolute_error: 29.5502\n",
            "Epoch 26/100\n",
            "7/7 [==============================] - 0s 7ms/step - loss: 4319.9844 - mean_absolute_error: 59.7738 - val_loss: 311.9344 - val_mean_absolute_error: 14.2250\n",
            "Epoch 27/100\n",
            "7/7 [==============================] - 0s 8ms/step - loss: 2642.7371 - mean_absolute_error: 43.4667 - val_loss: 177.7471 - val_mean_absolute_error: 11.1093\n",
            "Epoch 28/100\n",
            "7/7 [==============================] - 0s 7ms/step - loss: 1560.9323 - mean_absolute_error: 31.6861 - val_loss: 436.2007 - val_mean_absolute_error: 17.7476\n",
            "Epoch 29/100\n",
            "7/7 [==============================] - 0s 7ms/step - loss: 1031.7120 - mean_absolute_error: 25.8575 - val_loss: 837.2566 - val_mean_absolute_error: 25.9545\n",
            "Epoch 30/100\n",
            "7/7 [==============================] - 0s 7ms/step - loss: 844.6502 - mean_absolute_error: 23.7869 - val_loss: 1243.8060 - val_mean_absolute_error: 32.8662\n",
            "Epoch 31/100\n",
            "7/7 [==============================] - 0s 7ms/step - loss: 767.6489 - mean_absolute_error: 23.1847 - val_loss: 1516.2472 - val_mean_absolute_error: 36.7781\n",
            "Epoch 32/100\n",
            "7/7 [==============================] - 0s 8ms/step - loss: 761.5135 - mean_absolute_error: 23.3089 - val_loss: 1683.7052 - val_mean_absolute_error: 38.9883\n",
            "Epoch 33/100\n",
            "7/7 [==============================] - 0s 7ms/step - loss: 765.5894 - mean_absolute_error: 23.3926 - val_loss: 1745.7946 - val_mean_absolute_error: 39.7766\n",
            "Epoch 34/100\n",
            "7/7 [==============================] - 0s 9ms/step - loss: 767.3273 - mean_absolute_error: 23.4337 - val_loss: 1727.3986 - val_mean_absolute_error: 39.5447\n",
            "Epoch 35/100\n",
            "7/7 [==============================] - 0s 7ms/step - loss: 765.3374 - mean_absolute_error: 23.3988 - val_loss: 1692.1418 - val_mean_absolute_error: 39.0964\n",
            "Epoch 36/100\n",
            "7/7 [==============================] - 0s 7ms/step - loss: 762.9792 - mean_absolute_error: 23.3449 - val_loss: 1628.3604 - val_mean_absolute_error: 38.2720\n",
            "Epoch 37/100\n",
            "7/7 [==============================] - 0s 9ms/step - loss: 761.6133 - mean_absolute_error: 23.2754 - val_loss: 1576.7596 - val_mean_absolute_error: 37.5918\n",
            "Epoch 38/100\n",
            "7/7 [==============================] - 0s 8ms/step - loss: 760.0335 - mean_absolute_error: 23.2466 - val_loss: 1566.0847 - val_mean_absolute_error: 37.4496\n",
            "Epoch 39/100\n",
            "7/7 [==============================] - 0s 8ms/step - loss: 759.1460 - mean_absolute_error: 23.2242 - val_loss: 1531.0376 - val_mean_absolute_error: 36.9787\n",
            "Epoch 40/100\n",
            "7/7 [==============================] - 0s 8ms/step - loss: 759.9807 - mean_absolute_error: 23.2221 - val_loss: 1502.5186 - val_mean_absolute_error: 36.5911\n",
            "Epoch 41/100\n",
            "7/7 [==============================] - 0s 8ms/step - loss: 759.8681 - mean_absolute_error: 23.2138 - val_loss: 1517.8688 - val_mean_absolute_error: 36.8003\n",
            "Epoch 42/100\n",
            "7/7 [==============================] - 0s 7ms/step - loss: 759.9167 - mean_absolute_error: 23.2259 - val_loss: 1535.4008 - val_mean_absolute_error: 37.0377\n",
            "Epoch 43/100\n",
            "7/7 [==============================] - 0s 7ms/step - loss: 759.6560 - mean_absolute_error: 23.2261 - val_loss: 1523.7755 - val_mean_absolute_error: 36.8805\n",
            "Epoch 44/100\n",
            "7/7 [==============================] - 0s 9ms/step - loss: 759.7830 - mean_absolute_error: 23.2178 - val_loss: 1508.6879 - val_mean_absolute_error: 36.6754\n",
            "Epoch 45/100\n",
            "7/7 [==============================] - 0s 7ms/step - loss: 760.9489 - mean_absolute_error: 23.2378 - val_loss: 1542.2594 - val_mean_absolute_error: 37.1303\n",
            "Epoch 46/100\n",
            "7/7 [==============================] - 0s 7ms/step - loss: 759.7779 - mean_absolute_error: 23.2314 - val_loss: 1539.6819 - val_mean_absolute_error: 37.0956\n",
            "Epoch 47/100\n",
            "7/7 [==============================] - 0s 7ms/step - loss: 759.8211 - mean_absolute_error: 23.2278 - val_loss: 1521.6938 - val_mean_absolute_error: 36.8523\n",
            "Epoch 48/100\n",
            "7/7 [==============================] - 0s 7ms/step - loss: 759.7136 - mean_absolute_error: 23.2212 - val_loss: 1524.9583 - val_mean_absolute_error: 36.8966\n",
            "Epoch 49/100\n",
            "7/7 [==============================] - 0s 7ms/step - loss: 759.9484 - mean_absolute_error: 23.2292 - val_loss: 1539.5814 - val_mean_absolute_error: 37.0943\n",
            "Epoch 50/100\n",
            "7/7 [==============================] - 0s 8ms/step - loss: 759.7600 - mean_absolute_error: 23.2306 - val_loss: 1540.7161 - val_mean_absolute_error: 37.1112\n",
            "Epoch 51/100\n",
            "7/7 [==============================] - 0s 11ms/step - loss: 756.5131 - mean_absolute_error: 23.1606 - val_loss: 1340.1689 - val_mean_absolute_error: 34.3801\n",
            "Epoch 52/100\n",
            "7/7 [==============================] - 0s 9ms/step - loss: 755.1968 - mean_absolute_error: 22.9583 - val_loss: 1463.9905 - val_mean_absolute_error: 36.1205\n",
            "Epoch 53/100\n",
            "7/7 [==============================] - 0s 11ms/step - loss: 754.9952 - mean_absolute_error: 23.1424 - val_loss: 1608.8459 - val_mean_absolute_error: 38.0315\n",
            "Epoch 54/100\n",
            "7/7 [==============================] - 0s 8ms/step - loss: 758.8171 - mean_absolute_error: 23.2453 - val_loss: 1617.4611 - val_mean_absolute_error: 38.1458\n",
            "Epoch 55/100\n",
            "7/7 [==============================] - 0s 8ms/step - loss: 756.6384 - mean_absolute_error: 23.2377 - val_loss: 1523.9116 - val_mean_absolute_error: 36.9347\n",
            "Epoch 56/100\n",
            "7/7 [==============================] - 0s 8ms/step - loss: 746.8113 - mean_absolute_error: 23.0014 - val_loss: 1466.0984 - val_mean_absolute_error: 36.1963\n",
            "Epoch 57/100\n",
            "7/7 [==============================] - 0s 8ms/step - loss: 736.2443 - mean_absolute_error: 22.6615 - val_loss: 1399.9337 - val_mean_absolute_error: 35.3124\n",
            "Epoch 58/100\n",
            "7/7 [==============================] - 0s 7ms/step - loss: 731.1046 - mean_absolute_error: 22.7781 - val_loss: 1425.6143 - val_mean_absolute_error: 35.6907\n",
            "Epoch 59/100\n",
            "7/7 [==============================] - 0s 7ms/step - loss: 716.1114 - mean_absolute_error: 22.3404 - val_loss: 1213.1964 - val_mean_absolute_error: 32.5928\n",
            "Epoch 60/100\n",
            "7/7 [==============================] - 0s 8ms/step - loss: 708.4525 - mean_absolute_error: 22.2788 - val_loss: 1375.2250 - val_mean_absolute_error: 35.0690\n",
            "Epoch 61/100\n",
            "7/7 [==============================] - 0s 7ms/step - loss: 748.4380 - mean_absolute_error: 22.5252 - val_loss: 1529.4536 - val_mean_absolute_error: 37.2375\n",
            "Epoch 62/100\n",
            "7/7 [==============================] - 0s 7ms/step - loss: 694.3746 - mean_absolute_error: 22.2091 - val_loss: 896.1615 - val_mean_absolute_error: 27.5234\n",
            "Epoch 63/100\n",
            "7/7 [==============================] - 0s 8ms/step - loss: 677.2063 - mean_absolute_error: 21.4322 - val_loss: 1120.4418 - val_mean_absolute_error: 31.6695\n",
            "Epoch 64/100\n",
            "7/7 [==============================] - 0s 8ms/step - loss: 657.7373 - mean_absolute_error: 21.6653 - val_loss: 804.4061 - val_mean_absolute_error: 25.9357\n",
            "Epoch 65/100\n",
            "7/7 [==============================] - 0s 8ms/step - loss: 663.6279 - mean_absolute_error: 21.6331 - val_loss: 1184.0604 - val_mean_absolute_error: 32.5066\n",
            "Epoch 66/100\n",
            "7/7 [==============================] - 0s 9ms/step - loss: 620.6614 - mean_absolute_error: 20.8078 - val_loss: 952.1485 - val_mean_absolute_error: 28.8217\n",
            "Epoch 67/100\n",
            "7/7 [==============================] - 0s 8ms/step - loss: 594.8969 - mean_absolute_error: 20.4010 - val_loss: 975.7478 - val_mean_absolute_error: 29.3549\n",
            "Epoch 68/100\n",
            "7/7 [==============================] - 0s 8ms/step - loss: 566.4081 - mean_absolute_error: 19.8612 - val_loss: 507.2393 - val_mean_absolute_error: 20.2971\n",
            "Epoch 69/100\n",
            "7/7 [==============================] - 0s 10ms/step - loss: 504.3810 - mean_absolute_error: 18.6632 - val_loss: 846.1486 - val_mean_absolute_error: 27.6356\n",
            "Epoch 70/100\n",
            "7/7 [==============================] - 0s 11ms/step - loss: 464.4452 - mean_absolute_error: 17.6703 - val_loss: 808.7248 - val_mean_absolute_error: 27.0737\n",
            "Epoch 71/100\n",
            "7/7 [==============================] - 0s 7ms/step - loss: 435.8636 - mean_absolute_error: 17.3413 - val_loss: 461.0548 - val_mean_absolute_error: 19.7711\n",
            "Epoch 72/100\n",
            "7/7 [==============================] - 0s 7ms/step - loss: 405.5360 - mean_absolute_error: 16.6011 - val_loss: 162.4937 - val_mean_absolute_error: 10.6399\n",
            "Epoch 73/100\n",
            "7/7 [==============================] - 0s 8ms/step - loss: 446.1902 - mean_absolute_error: 17.3643 - val_loss: 358.6970 - val_mean_absolute_error: 17.2484\n",
            "Epoch 74/100\n",
            "7/7 [==============================] - 0s 7ms/step - loss: 407.3699 - mean_absolute_error: 16.7279 - val_loss: 608.6876 - val_mean_absolute_error: 23.5841\n",
            "Epoch 75/100\n",
            "7/7 [==============================] - 0s 7ms/step - loss: 346.1171 - mean_absolute_error: 14.9531 - val_loss: 694.4233 - val_mean_absolute_error: 25.3977\n",
            "Epoch 76/100\n",
            "7/7 [==============================] - 0s 9ms/step - loss: 336.0559 - mean_absolute_error: 15.1287 - val_loss: 544.7233 - val_mean_absolute_error: 22.4176\n",
            "Epoch 77/100\n",
            "7/7 [==============================] - 0s 7ms/step - loss: 297.5868 - mean_absolute_error: 14.0052 - val_loss: 453.1656 - val_mean_absolute_error: 20.3400\n",
            "Epoch 78/100\n",
            "7/7 [==============================] - 0s 7ms/step - loss: 264.8099 - mean_absolute_error: 13.3891 - val_loss: 133.5850 - val_mean_absolute_error: 9.7623\n",
            "Epoch 79/100\n",
            "7/7 [==============================] - 0s 10ms/step - loss: 282.6666 - mean_absolute_error: 13.8528 - val_loss: 342.6523 - val_mean_absolute_error: 17.5586\n",
            "Epoch 80/100\n",
            "7/7 [==============================] - 0s 9ms/step - loss: 230.9283 - mean_absolute_error: 12.2505 - val_loss: 465.4833 - val_mean_absolute_error: 20.7428\n",
            "Epoch 81/100\n",
            "7/7 [==============================] - 0s 7ms/step - loss: 220.5334 - mean_absolute_error: 12.2413 - val_loss: 331.4812 - val_mean_absolute_error: 17.3705\n",
            "Epoch 82/100\n",
            "7/7 [==============================] - 0s 8ms/step - loss: 221.3551 - mean_absolute_error: 12.4976 - val_loss: 361.5386 - val_mean_absolute_error: 18.2743\n",
            "Epoch 83/100\n",
            "7/7 [==============================] - 0s 11ms/step - loss: 223.3241 - mean_absolute_error: 12.7250 - val_loss: 95.3736 - val_mean_absolute_error: 8.1588\n",
            "Epoch 84/100\n",
            "7/7 [==============================] - 0s 8ms/step - loss: 229.8001 - mean_absolute_error: 12.5510 - val_loss: 58.7325 - val_mean_absolute_error: 6.4764\n",
            "Epoch 85/100\n",
            "7/7 [==============================] - 0s 12ms/step - loss: 205.9788 - mean_absolute_error: 11.5726 - val_loss: 389.0965 - val_mean_absolute_error: 19.0781\n",
            "Epoch 86/100\n",
            "7/7 [==============================] - 0s 10ms/step - loss: 158.5396 - mean_absolute_error: 10.4371 - val_loss: 205.6378 - val_mean_absolute_error: 13.4607\n",
            "Epoch 87/100\n",
            "7/7 [==============================] - 0s 11ms/step - loss: 131.7452 - mean_absolute_error: 9.2945 - val_loss: 162.7905 - val_mean_absolute_error: 11.8961\n",
            "Epoch 88/100\n",
            "7/7 [==============================] - 0s 11ms/step - loss: 120.4792 - mean_absolute_error: 8.8881 - val_loss: 165.6288 - val_mean_absolute_error: 11.9863\n",
            "Epoch 89/100\n",
            "7/7 [==============================] - 0s 10ms/step - loss: 113.6642 - mean_absolute_error: 8.6758 - val_loss: 154.4006 - val_mean_absolute_error: 11.5467\n",
            "Epoch 90/100\n",
            "7/7 [==============================] - 0s 11ms/step - loss: 104.8240 - mean_absolute_error: 8.3916 - val_loss: 132.4441 - val_mean_absolute_error: 10.5834\n",
            "Epoch 91/100\n",
            "7/7 [==============================] - 0s 11ms/step - loss: 93.4444 - mean_absolute_error: 7.8133 - val_loss: 71.6062 - val_mean_absolute_error: 7.3909\n",
            "Epoch 92/100\n",
            "7/7 [==============================] - 0s 10ms/step - loss: 89.6495 - mean_absolute_error: 7.6064 - val_loss: 72.0905 - val_mean_absolute_error: 7.4312\n",
            "Epoch 93/100\n",
            "7/7 [==============================] - 0s 10ms/step - loss: 81.8692 - mean_absolute_error: 7.2887 - val_loss: 115.1192 - val_mean_absolute_error: 9.7902\n",
            "Epoch 94/100\n",
            "7/7 [==============================] - 0s 11ms/step - loss: 76.8797 - mean_absolute_error: 6.9807 - val_loss: 136.9264 - val_mean_absolute_error: 10.8616\n",
            "Epoch 95/100\n",
            "7/7 [==============================] - 0s 11ms/step - loss: 76.2699 - mean_absolute_error: 7.1267 - val_loss: 100.6511 - val_mean_absolute_error: 9.0307\n",
            "Epoch 96/100\n",
            "7/7 [==============================] - 0s 10ms/step - loss: 71.1817 - mean_absolute_error: 6.9548 - val_loss: 110.3791 - val_mean_absolute_error: 9.5562\n",
            "Epoch 97/100\n",
            "7/7 [==============================] - 0s 10ms/step - loss: 73.4863 - mean_absolute_error: 6.9736 - val_loss: 193.3331 - val_mean_absolute_error: 13.1831\n",
            "Epoch 98/100\n",
            "7/7 [==============================] - 0s 12ms/step - loss: 83.0345 - mean_absolute_error: 7.6781 - val_loss: 110.1138 - val_mean_absolute_error: 9.5164\n",
            "Epoch 99/100\n",
            "7/7 [==============================] - 0s 10ms/step - loss: 65.3395 - mean_absolute_error: 6.6183 - val_loss: 117.2324 - val_mean_absolute_error: 9.8600\n",
            "Epoch 100/100\n",
            "7/7 [==============================] - 0s 10ms/step - loss: 64.7517 - mean_absolute_error: 6.5825 - val_loss: 84.2207 - val_mean_absolute_error: 8.0673\n"
          ]
        },
        {
          "output_type": "execute_result",
          "data": {
            "text/plain": [
              "<keras.callbacks.History at 0x7f50b4211b10>"
            ]
          },
          "metadata": {},
          "execution_count": 26
        }
      ]
    },
    {
      "cell_type": "code",
      "source": [
        "#Orange is the actual observed observations (what really happened) Blue is what was predicted\n",
        "train_predictions = model.predict(X_train).flatten()\n",
        "\n",
        "plt.plot(dates_train, train_predictions)\n",
        "plt.plot(dates_train, y_train)\n",
        "plt.legend(['Training Predictions', 'Training Observations'])"
      ],
      "metadata": {
        "id": "U_S8Fc4NrgP3",
        "colab": {
          "base_uri": "https://localhost:8080/",
          "height": 300
        },
        "outputId": "9cf70847-d3a9-47b3-d657-4ae4b8012f1f"
      },
      "execution_count": 27,
      "outputs": [
        {
          "output_type": "stream",
          "name": "stdout",
          "text": [
            "7/7 [==============================] - 1s 3ms/step\n"
          ]
        },
        {
          "output_type": "execute_result",
          "data": {
            "text/plain": [
              "<matplotlib.legend.Legend at 0x7f50b1656ad0>"
            ]
          },
          "metadata": {},
          "execution_count": 27
        },
        {
          "output_type": "display_data",
          "data": {
            "text/plain": [
              "<Figure size 432x288 with 1 Axes>"
            ],
            "image/png": "[encoded data removed]"
          },
          "metadata": {
            "needs_background": "light"
          }
        }
      ]
    },
    {
      "cell_type": "code",
      "source": [
        "val_predictions = model.predict(X_val).flatten()\n",
        "\n",
        "plt.plot(dates_val, val_predictions)\n",
        "plt.plot(dates_val, y_val)\n",
        "plt.legend(['Validation Predictions', 'Validation Observations'])"
      ],
      "metadata": {
        "id": "qsUqYJYTsIwN",
        "colab": {
          "base_uri": "https://localhost:8080/",
          "height": 300
        },
        "outputId": "2e513328-6259-4f63-9f3f-3f7353986f0e"
      },
      "execution_count": 28,
      "outputs": [
        {
          "output_type": "stream",
          "name": "stdout",
          "text": [
            "1/1 [==============================] - 0s 26ms/step\n"
          ]
        },
        {
          "output_type": "execute_result",
          "data": {
            "text/plain": [
              "<matplotlib.legend.Legend at 0x7f50b15de210>"
            ]
          },
          "metadata": {},
          "execution_count": 28
        },
        {
          "output_type": "display_data",
          "data": {
            "text/plain": [
              "<Figure size 432x288 with 1 Axes>"
            ],
            "image/png": "[encoded data removed]"
          },
          "metadata": {
            "needs_background": "light"
          }
        }
      ]
    },
    {
      "cell_type": "code",
      "source": [
        "test_predictions = model.predict(X_test).flatten()\n",
        "\n",
        "plt.plot(dates_test, test_predictions)\n",
        "plt.plot(dates_test, y_test)\n",
        "plt.legend(['Testing Predictions', 'Testing Observations'])"
      ],
      "metadata": {
        "id": "q4pYE2jAUEX_",
        "colab": {
          "base_uri": "https://localhost:8080/",
          "height": 300
        },
        "outputId": "d3625cd2-567b-4cb1-dffa-085c5d2c990f"
      },
      "execution_count": 29,
      "outputs": [
        {
          "output_type": "stream",
          "name": "stdout",
          "text": [
            "1/1 [==============================] - 0s 17ms/step\n"
          ]
        },
        {
          "output_type": "execute_result",
          "data": {
            "text/plain": [
              "<matplotlib.legend.Legend at 0x7f50b1555e90>"
            ]
          },
          "metadata": {},
          "execution_count": 29
        },
        {
          "output_type": "display_data",
          "data": {
            "text/plain": [
              "<Figure size 432x288 with 1 Axes>"
            ],
            "image/png": "[encoded data removed]"
          },
          "metadata": {
            "needs_background": "light"
          }
        }
      ]
    },
    {
      "cell_type": "code",
      "source": [
        "#Let the model recursively predict the lonmg-term future\n",
        "from copy import deepcopy\n",
        "\n",
        "recursive_predictions = []\n",
        "recursive_dates = np.concatenate([dates_val, dates_test])\n",
        "\n",
        "for target_date in recursive_dates:\n",
        "  last_window = deepcopy(X_train[-1])\n",
        "  next_prediction = model.predict(np.array([last_window])).flatten()\n",
        "  recursive_predictions.append(next_prediction)\n",
        "  last_window[-1] = next_prediction"
      ],
      "metadata": {
        "colab": {
          "base_uri": "https://localhost:8080/"
        },
        "id": "mcK63wyvVVI9",
        "outputId": "7072da3a-b5cf-48f0-e8c6-99879304bec6"
      },
      "execution_count": 30,
      "outputs": [
        {
          "output_type": "stream",
          "name": "stdout",
          "text": [
            "1/1 [==============================] - 0s 21ms/step\n",
            "1/1 [==============================] - 0s 15ms/step\n",
            "1/1 [==============================] - 0s 17ms/step\n",
            "1/1 [==============================] - 0s 19ms/step\n",
            "1/1 [==============================] - 0s 19ms/step\n",
            "1/1 [==============================] - 0s 19ms/step\n",
            "1/1 [==============================] - 0s 16ms/step\n",
            "1/1 [==============================] - 0s 26ms/step\n",
            "1/1 [==============================] - 0s 19ms/step\n",
            "1/1 [==============================] - 0s 15ms/step\n",
            "1/1 [==============================] - 0s 16ms/step\n",
            "1/1 [==============================] - 0s 16ms/step\n",
            "1/1 [==============================] - 0s 16ms/step\n",
            "1/1 [==============================] - 0s 19ms/step\n",
            "1/1 [==============================] - 0s 19ms/step\n",
            "1/1 [==============================] - 0s 18ms/step\n",
            "1/1 [==============================] - 0s 20ms/step\n",
            "1/1 [==============================] - 0s 16ms/step\n",
            "1/1 [==============================] - 0s 16ms/step\n",
            "1/1 [==============================] - 0s 27ms/step\n",
            "1/1 [==============================] - 0s 17ms/step\n",
            "1/1 [==============================] - 0s 17ms/step\n",
            "1/1 [==============================] - 0s 21ms/step\n",
            "1/1 [==============================] - 0s 16ms/step\n",
            "1/1 [==============================] - 0s 16ms/step\n",
            "1/1 [==============================] - 0s 17ms/step\n",
            "1/1 [==============================] - 0s 23ms/step\n",
            "1/1 [==============================] - 0s 18ms/step\n",
            "1/1 [==============================] - 0s 15ms/step\n",
            "1/1 [==============================] - 0s 16ms/step\n",
            "1/1 [==============================] - 0s 16ms/step\n",
            "1/1 [==============================] - 0s 17ms/step\n",
            "1/1 [==============================] - 0s 19ms/step\n",
            "1/1 [==============================] - 0s 16ms/step\n",
            "1/1 [==============================] - 0s 16ms/step\n",
            "1/1 [==============================] - 0s 24ms/step\n",
            "1/1 [==============================] - 0s 17ms/step\n",
            "1/1 [==============================] - 0s 18ms/step\n",
            "1/1 [==============================] - 0s 16ms/step\n",
            "1/1 [==============================] - 0s 17ms/step\n",
            "1/1 [==============================] - 0s 16ms/step\n",
            "1/1 [==============================] - 0s 15ms/step\n",
            "1/1 [==============================] - 0s 18ms/step\n",
            "1/1 [==============================] - 0s 16ms/step\n",
            "1/1 [==============================] - 0s 21ms/step\n",
            "1/1 [==============================] - 0s 16ms/step\n",
            "1/1 [==============================] - 0s 17ms/step\n",
            "1/1 [==============================] - 0s 19ms/step\n",
            "1/1 [==============================] - 0s 16ms/step\n",
            "1/1 [==============================] - 0s 15ms/step\n",
            "1/1 [==============================] - 0s 21ms/step\n"
          ]
        }
      ]
    },
    {
      "cell_type": "code",
      "source": [
        "#After plotting the model for what is to come, it believes that the price of the stock will stay the same as the end value of the training\n",
        "#This is not a faulty model... It is simply not well equiped to make long-term decision. Thus, it is best for day-to-day predictions\n",
        "plt.plot(dates_train, train_predictions)\n",
        "plt.plot(dates_train, y_train)\n",
        "plt.plot(dates_val, val_predictions)\n",
        "plt.plot(dates_val, y_val)\n",
        "plt.plot(dates_test, test_predictions)\n",
        "plt.plot(dates_test, y_test)\n",
        "plt.plot(recursive_dates, recursive_predictions)\n",
        "plt.legend(['Training Predictions',\n",
        "            'Training Observations',\n",
        "            'Validation Predictions',\n",
        "            'Validation Observations',\n",
        "            'Testing Predictions',\n",
        "            'Testing Observations',\n",
        "            'Recursive Predictions'])"
      ],
      "metadata": {
        "colab": {
          "base_uri": "https://localhost:8080/",
          "height": 282
        },
        "id": "jdkvmXt8Xepf",
        "outputId": "61d2d752-1d62-4edb-8d2c-ac657eba3651"
      },
      "execution_count": 31,
      "outputs": [
        {
          "output_type": "execute_result",
          "data": {
            "text/plain": [
              "<matplotlib.legend.Legend at 0x7f50af13eed0>"
            ]
          },
          "metadata": {},
          "execution_count": 31
        },
        {
          "output_type": "display_data",
          "data": {
            "text/plain": [
              "<Figure size 432x288 with 1 Axes>"
            ],
            "image/png": "[encoded data removed]"
          },
          "metadata": {
            "needs_background": "light"
          }
        }
      ]
    }
  ]
}